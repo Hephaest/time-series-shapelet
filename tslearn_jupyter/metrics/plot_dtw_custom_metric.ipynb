{
  "cells": [
    {
      "cell_type": "code",
      "execution_count": null,
      "metadata": {
        "collapsed": false
      },
      "outputs": [],
      "source": [
        "%matplotlib inline"
      ]
    },
    {
      "cell_type": "markdown",
      "metadata": {},
      "source": [
        "\nDTW computation with a custom distance metric\n=============================================\n.. currentmodule:: tslearn.metrics\n\nThis example illustrates how to use the DTW computation of the optimal\nalignment path [1]_ on an user-defined distance matrix using\n:func:`dtw_path_from_metric`.\n\nLeft is the DTW of two angular time series using the length of the arc on the\nunit circle as a distance metric [2]_ and right is the DTW of two\nmultidimensional boolean time series using hamming distance [3]_.\n\nThe images represent cost matrices, that is, on the left the length of the arc\nbetween each pair of angles on the unit circle and on the right the hamming\ndistances between the multidimensional boolean arrays. In both cases, the\ncorresponding time series are represented at the left and at the top of each\ncost matrix.\n\nThe optimal path, that is the path that minimizes the total user-defined cost\nfrom the first time point to the last one, is represented in white on the\nimage.\n\n.. [1] H. Sakoe and S. Chiba, \"Dynamic programming algorithm optimization\n       for spoken word recognition\". IEEE Transactions on Acoustics, Speech,\n       and Signal Processing, 26(1), 43-49 (1978).\n\n.. [2] Definition of the length of an arc on `Wikipedia\n       <https://en.wikipedia.org/wiki/Arc_(geometry)#Length_of_an_arc_of_a_circle>`_.\n\n.. [3] See Hammig distance in `Scipy's documentation\n       <https://docs.scipy.org/doc/scipy/reference/generated/scipy.spatial.distance.hamming.html>`_.\n"
      ]
    },
    {
      "cell_type": "code",
      "execution_count": null,
      "metadata": {
        "collapsed": false
      },
      "outputs": [],
      "source": [
        "# Author: Romain Fayat\n# License: BSD 3 clause\n# sphinx_gallery_thumbnail_number = 2\n\nimport numpy as np\nfrom numpy import pi\nfrom sklearn.metrics import pairwise_distances\nimport matplotlib.pyplot as plt\nfrom matplotlib.colors import LinearSegmentedColormap\n\nfrom tslearn.generators import random_walks\nfrom tslearn import metrics\nfrom tslearn.preprocessing import TimeSeriesScalerMeanVariance\n\nnp.random.seed(0)\nn_ts, sz = 2, 100\n\n\n# Example 1 : Length of the arc between two angles on a circle\ndef arc_length(angle_1, angle_2, r=1.):\n    \"\"\"Length of the arc between two angles (in rad) on a circle of\n    radius r.\n    \"\"\"\n    # Compute the angle between the two inputs between 0 and 2*pi.\n    theta = np.mod(angle_2 - angle_1, 2*pi)\n    if theta > pi:\n        theta = theta - 2 * pi\n    # Return the length of the arc\n    L = r * np.abs(theta)\n    return(L)\n\n\ndataset_1 = random_walks(n_ts=n_ts, sz=sz, d=1)\nscaler = TimeSeriesScalerMeanVariance(mu=0., std=pi)  # Rescale the time series\ndataset_scaled_1 = scaler.fit_transform(dataset_1)\n\n# DTW using a function as the metric argument\npath_1, sim_1 = metrics.dtw_path_from_metric(\n    dataset_scaled_1[0], dataset_scaled_1[1], metric=arc_length\n)\n\n# Example 2 : Hamming distance between 2 multi-dimensional boolean time series\nrw = random_walks(n_ts=n_ts, sz=sz, d=15, std=.3)\ndataset_2 = np.mod(np.floor(rw), 4) == 0\n\n# DTW using one of the options of sklearn.metrics.pairwise_distances\npath_2, sim_2 = metrics.dtw_path_from_metric(\n    dataset_2[0], dataset_2[1], metric=\"hamming\"\n)\n\n# Plots\n# Compute the distance matrices for the plots\ndistances_1 = pairwise_distances(\n    dataset_scaled_1[0], dataset_scaled_1[1], metric=arc_length\n)\ndistances_2 = pairwise_distances(dataset_2[0], dataset_2[1], metric=\"hamming\")\n\n# Definitions for the axes\nleft, bottom = 0.01, 0.1\nw_ts = h_ts = 0.2\nleft_h = left + w_ts + 0.02\nwidth = height = 0.65\nbottom_h = bottom + height + 0.02\n\nrect_s_y = [left, bottom, w_ts, height]\nrect_dist = [left_h, bottom, width, height]\nrect_s_x = [left_h, bottom_h, width, h_ts]\n\n# Plot example 1\nplt.figure(1, figsize=(6, 6))\nax_dist = plt.axes(rect_dist)\nax_s_x = plt.axes(rect_s_x)\nax_s_y = plt.axes(rect_s_y)\n\nax_dist.imshow(distances_1, origin='lower')\nax_dist.axis(\"off\")\nax_dist.autoscale(False)\nax_dist.plot(*zip(*path_1), \"w-\", linewidth=3.)\n\nticks_location = [-pi, 0, pi]\nticks_labels = [r\"$\\bf-\\pi$\", r\"$\\bf0$\", r\"$\\bf\\pi$\"]\n\nax_s_x.plot([0, sz - 1], [ticks_location]*2, \"k--\", alpha=.2)\nax_s_x.plot(np.arange(sz), dataset_scaled_1[1], \"b-\", linewidth=3.)\nax_s_x.set_xlim((0, sz - 1))\nax_s_x.axis(\"off\")\n\nax_s_y.plot([ticks_location]*2, [0, sz - 1], \"k--\", alpha=.2)\nax_s_y.plot(-dataset_scaled_1[0], np.arange(sz), \"b-\", linewidth=3.)\nax_s_y.set_ylim((0, sz - 1))\nax_s_y.axis(\"off\")\n\nfor loc, s in zip(ticks_location, ticks_labels):\n    ax_s_x.text(0, loc, s, fontsize=\"large\", color=\"grey\",\n                horizontalalignment=\"right\", verticalalignment=\"center\")\n    ax_s_y.text(-loc, 0, s, fontsize=\"large\", color=\"grey\",\n                horizontalalignment=\"center\", verticalalignment=\"top\")\n\n# Plot example 2\nplt.figure(2, figsize=(6, 6))\nax_dist = plt.axes(rect_dist)\nax_s_x = plt.axes(rect_s_x)\nax_s_y = plt.axes(rect_s_y)\n\nax_dist.imshow(distances_2, origin='lower')\nax_dist.axis(\"off\")\nax_dist.autoscale(False)\nax_dist.plot(*zip(*path_2), \"w-\", linewidth=3.)\n\ncolors = [(1, 1, 1), (0, 0, 1)]  # White -> Blue\ncmap_name = 'white_blue'\ncm = LinearSegmentedColormap.from_list(cmap_name, colors, N=2)\n\nax_s_x.imshow(dataset_2[1].T, aspect=\"auto\", cmap=cm)\nax_s_x.axis(\"off\")\n\nax_s_y.imshow(np.flip(dataset_2[0], axis=1), aspect=\"auto\", cmap=cm)\nax_s_y.axis(\"off\")\n\nplt.tight_layout()\nplt.show()"
      ]
    }
  ],
  "metadata": {
    "kernelspec": {
      "display_name": "Python 3",
      "language": "python",
      "name": "python3"
    },
    "language_info": {
      "codemirror_mode": {
        "name": "ipython",
        "version": 3
      },
      "file_extension": ".py",
      "mimetype": "text/x-python",
      "name": "python",
      "nbconvert_exporter": "python",
      "pygments_lexer": "ipython3",
      "version": "3.7.3"
    }
  },
  "nbformat": 4,
  "nbformat_minor": 0
}
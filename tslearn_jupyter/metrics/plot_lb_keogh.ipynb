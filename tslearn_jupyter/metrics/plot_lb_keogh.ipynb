{
  "cells": [
    {
      "cell_type": "code",
      "execution_count": null,
      "metadata": {
        "collapsed": false
      },
      "outputs": [],
      "source": [
        "%matplotlib inline"
      ]
    },
    {
      "cell_type": "markdown",
      "metadata": {},
      "source": [
        "\nLB_Keogh\n========\n\nThis example illustrates the principle of time series envelope and its\nrelationship to the \"LB_Keogh\" lower bound [1].\n\nThe envelope of a time series consists of two time series such that the\noriginal time series is between the two time series. Denoting the original\ntime series $X = (X_i)_{1 \\leq i \\leq n}$, the envelope of this time\nseries is an ensemble of two time series of same length\n$L = (l_i)_{1 \\leq i \\leq n}$ and $U = (u_i)_{1 \\leq i \\leq n}$\nsuch that for all $i \\in \\{1, \\ldots, n\\}$:\n\n\\begin{align}u_i = \\max(x_{i - r}, \\ldots, x_{i + r})\n\n    l_i = \\min(x_{i - r}, \\ldots, x_{i + r})\\end{align}\n\nwhere $r$ is the radius of the envelope.\n\nThe distance between a time series $Q$ and an envelope $(L, U)$ is\ndefined as:\n\n\\begin{align}LB_{Keogh}(Q, (L, U)) = \\sqrt{\\sum_{i=1}^n\n    \\begin{cases}\n          (q_i - u_i)^2 & \\text{if $q_i > u_i$}\\\\\n          (q_i - l_i)^2 & \\text{if $q_i < l_i$}\\\\\n          0 & \\text{otherwise}\n    \\end{cases}\n    }\\end{align}\n\nSo it is simply the Euclidean distance between $Q$ and the envelope.\n\n[1] E. Keogh and C. A. Ratanamahatana, \"Exact indexing of dynamic time\nwarping\". Knowledge and Information Systems, 7(3), 358-386 (2004).\n"
      ]
    },
    {
      "cell_type": "code",
      "execution_count": null,
      "metadata": {
        "collapsed": false
      },
      "outputs": [],
      "source": [
        "# Author: Romain Tavenard\n#         Johann Faouzi\n# License: BSD 3 clause\n# sphinx_gallery_thumbnail_number = 2\n\nimport numpy\nimport matplotlib.pyplot as plt\n\nfrom tslearn.generators import random_walks\nfrom tslearn.preprocessing import TimeSeriesScalerMeanVariance\nfrom tslearn import metrics\n\nnumpy.random.seed(0)\nn_ts, sz, d = 2, 100, 1\ndataset = random_walks(n_ts=n_ts, sz=sz, d=d)\nscaler = TimeSeriesScalerMeanVariance(mu=0., std=1.)  # Rescale time series\ndataset_scaled = scaler.fit_transform(dataset)\n\nplt.figure(figsize=(14, 8))\nenvelope_down, envelope_up = metrics.lb_envelope(dataset_scaled[0], radius=3)\nplt.plot(dataset_scaled[0, :, 0], \"r-\", label='First time series')\nplt.plot(envelope_down[:, 0], \"b-\", label='Lower envelope')\nplt.plot(envelope_up[:, 0], \"g-\", label='Upper envelope')\nplt.legend()\nplt.title('Envelope around a time series with radius=3')\n\nplt.figure(figsize=(14, 8))\nplt.plot(envelope_down[:, 0], \"b-\", label='Lower envelope')\nplt.plot(envelope_up[:, 0], \"g-\", label='Upper envelope')\nplt.plot(dataset_scaled[1, :, 0], \"k-\", label='Second time series')\nplt.vlines(numpy.arange(sz), dataset_scaled[1, :, 0], numpy.clip(\n    dataset_scaled[1, :, 0], envelope_down[:, 0], envelope_up[:, 0]),\n           label='Distance', color='orange')\nplt.legend()\nlb_k_sim = metrics.lb_keogh(dataset_scaled[1],\n                            envelope_candidate=(envelope_down, envelope_up))\nplt.title('Distance between the second time series and \\n'\n          'the envelope = {:.4f}'.format(lb_k_sim))\n\nplt.show()"
      ]
    }
  ],
  "metadata": {
    "kernelspec": {
      "display_name": "Python 3",
      "language": "python",
      "name": "python3"
    },
    "language_info": {
      "codemirror_mode": {
        "name": "ipython",
        "version": 3
      },
      "file_extension": ".py",
      "mimetype": "text/x-python",
      "name": "python",
      "nbconvert_exporter": "python",
      "pygments_lexer": "ipython3",
      "version": "3.7.3"
    }
  },
  "nbformat": 4,
  "nbformat_minor": 0
}
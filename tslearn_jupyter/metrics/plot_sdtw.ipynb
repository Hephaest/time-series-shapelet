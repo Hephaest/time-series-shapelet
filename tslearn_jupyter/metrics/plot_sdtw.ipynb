{
  "cells": [
    {
      "cell_type": "code",
      "execution_count": null,
      "metadata": {
        "collapsed": false
      },
      "outputs": [],
      "source": [
        "%matplotlib inline"
      ]
    },
    {
      "cell_type": "markdown",
      "metadata": {},
      "source": [
        "\nsDTW multi path matching\n========================\n\nThis example illustrates how subsequent DTW can be used to find multiple\nmatches of a sequence in a longer sequence.\n\nA potential usecase is to identify the occurrence of certain events in\ncontinuous sensor signals. As one example Barth et al. [1] used this method\nto find stride in sensor recordings of gait.\n\nThe example demonstrates the use of the functions\n`subsequence_cost_matrix` and `subsequence_path`\nto manually calculate warping paths from multiple potential alignments. If\nyou are only interested in finding the optimal alignment, you can directly use\n`dtw_subsequence_path`.\n\n[1] Barth, et al. (2013): Subsequence dynamic time warping as a method for \\\nrobust step segmentation using gyroscope signals of daily life activities, \\\nEMBS, https://doi.org/10.1109/EMBC.2013.6611104\n"
      ]
    },
    {
      "cell_type": "code",
      "execution_count": null,
      "metadata": {
        "collapsed": false
      },
      "outputs": [],
      "source": [
        "# Author: Arne Kuederle\n# License: BSD 3 clause\n\nimport matplotlib.pyplot as plt\nimport numpy\nfrom scipy.signal import find_peaks\n\nfrom tslearn import metrics\nfrom tslearn.generators import random_walks\nfrom tslearn.preprocessing import TimeSeriesScalerMeanVariance\n\nnumpy.random.seed(0)\nn_ts, sz, d = 2, 100, 1\nn_repeat = 5\ndataset = random_walks(n_ts=n_ts, sz=sz, d=d)\nscaler = TimeSeriesScalerMeanVariance(mu=0., std=1.)  # Rescale time series\ndataset_scaled = scaler.fit_transform(dataset)\n\n# We repeat the long sequence multiple times to generate multiple possible\n# matches\nlong_sequence = numpy.tile(dataset_scaled[1], (n_repeat, 1))\nshort_sequence = dataset_scaled[0]\n\nsz1 = len(long_sequence)\nsz2 = len(short_sequence)\n\nprint('Shape long sequence: {}'.format(long_sequence.shape))\nprint('Shape short sequence: {}'.format(short_sequence.shape))\n\n# Calculate the accumulated cost matrix\nmat = metrics.subsequence_cost_matrix(short_sequence,\n                                      long_sequence)\n\n# Calculate cost function\ncost_func = mat[-1, :]\n\n# Identify potential matches in the cost function (parameters are tuned to\n# fit this example)\npotential_matches = find_peaks(-cost_func, distance=sz * 0.75, height=-50)[0]\n\n# Calculate the optimal warping path starting from each of the identified\n# minima\npaths = [metrics.subsequence_path(mat, match) for match in\n         potential_matches]\n\nplt.figure(1, figsize=(6 * n_repeat, 6))\n\n# definitions for the axes\nleft, bottom = 0.01, 0.1\nh_ts = 0.2\nw_ts = h_ts / n_repeat\nleft_h = left + w_ts + 0.02\nwidth = height = 0.65\nbottom_h = bottom + height + 0.02\n\nrect_s_y = [left, bottom, w_ts, height]\nrect_gram = [left_h, bottom, width, height]\nrect_s_x = [left_h, bottom_h, width, h_ts]\n\nax_gram = plt.axes(rect_gram)\nax_s_x = plt.axes(rect_s_x)\nax_s_y = plt.axes(rect_s_y)\n\nax_gram.imshow(numpy.sqrt(mat))\nax_gram.axis(\"off\")\nax_gram.autoscale(False)\n\n# Plot the paths\nfor path in paths:\n    ax_gram.plot([j for (i, j) in path], [i for (i, j) in path], \"w-\",\n                 linewidth=3.)\n\nax_s_x.plot(numpy.arange(sz1), long_sequence, \"b-\", linewidth=3.)\nax_s_x.axis(\"off\")\nax_s_x.set_xlim((0, sz1 - 1))\n\nax_s_y.plot(- short_sequence, numpy.arange(sz2)[::-1], \"b-\", linewidth=3.)\nax_s_y.axis(\"off\")\nax_s_y.set_ylim((0, sz2 - 1))\n\nplt.show()"
      ]
    }
  ],
  "metadata": {
    "kernelspec": {
      "display_name": "Python 3",
      "language": "python",
      "name": "python3"
    },
    "language_info": {
      "codemirror_mode": {
        "name": "ipython",
        "version": 3
      },
      "file_extension": ".py",
      "mimetype": "text/x-python",
      "name": "python",
      "nbconvert_exporter": "python",
      "pygments_lexer": "ipython3",
      "version": "3.7.3"
    }
  },
  "nbformat": 4,
  "nbformat_minor": 0
}
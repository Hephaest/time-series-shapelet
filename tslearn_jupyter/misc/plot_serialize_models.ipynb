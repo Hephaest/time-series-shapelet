{
  "cells": [
    {
      "cell_type": "code",
      "execution_count": null,
      "metadata": {
        "collapsed": false
      },
      "outputs": [],
      "source": [
        "%matplotlib inline"
      ]
    },
    {
      "cell_type": "markdown",
      "metadata": {},
      "source": [
        "\nModel Persistence\n=================\n\nMany tslearn models can be saved to disk and used for predictions\nat a later time. This can be particularly useful when a model takes\na long time to train.\n\n**Available formats:** hdf5, json, pickle\n\nSave a model to disk::\n\n    model.to_<format>\n\nLoad a model from disk::\n\n    model.from_<format>\n\n**Basic usage**\n\n.. code-block:: python\n\n    # Instantiate a model\n    model = ModelClass(<hyper-parameters>)\n\n    # Train the model\n    model.fit(X_train)\n\n    # Save the model to disk\n    model.to_hdf5('./trained_model.hdf5')\n\n    # Load model from disk\n    model.from_hdf5('./trained_mode.hdf5')\n\n    # Make predictions\n    y = model.predict(X_test)\n\n<div class=\"alert alert-info\"><h4>Note</h4><p>For the following models the training data are saved to disk and\n    may result in a large model file if the trainig dataset is large:\n    ``KNeighborsTimeSeries``, ``KNeighborsTimeSeriesClassifier``, and\n    ``KernelKMeans``</p></div>\n"
      ]
    },
    {
      "cell_type": "code",
      "execution_count": null,
      "metadata": {
        "collapsed": false
      },
      "outputs": [],
      "source": [
        "# Example using KShape\n\nimport numpy\nimport matplotlib.pyplot as plt\n\nfrom tslearn.clustering import KShape\nfrom tslearn.datasets import CachedDatasets\nfrom tslearn.preprocessing import TimeSeriesScalerMeanVariance\n\nseed = 0\nnumpy.random.seed(seed)\nX_train, y_train, X_test, y_test = CachedDatasets().load_dataset(\"Trace\")\n\n# Keep first 3 classes\nX_train = X_train[y_train < 4]\nnumpy.random.shuffle(X_train)\n# Keep only 50 time series\nX_train = TimeSeriesScalerMeanVariance().fit_transform(X_train[:50])\nsz = X_train.shape[1]\n\n# Instantiate k-Shape model\nks = KShape(n_clusters=3, verbose=True, random_state=seed)\n\n# Train\nks.fit(X_train)\n\n# Save model\nks.to_hdf5('./ks_trained.hdf5')\n\n# Load model\ntrained_ks = KShape.from_hdf5('./ks_trained.hdf5')\n\n# Use loaded model to make predictions\ny_pred = trained_ks.predict(X_train)\n\nplt.figure()\nfor yi in range(3):\n    plt.subplot(3, 1, 1 + yi)\n    for xx in X_train[y_pred == yi]:\n        plt.plot(xx.ravel(), \"k-\", alpha=.2)\n    plt.plot(ks.cluster_centers_[yi].ravel(), \"r-\")\n    plt.xlim(0, sz)\n    plt.ylim(-4, 4)\n    plt.title(\"Cluster %d\" % (yi + 1))\n\nplt.tight_layout()\nplt.show()"
      ]
    }
  ],
  "metadata": {
    "kernelspec": {
      "display_name": "Python 3",
      "language": "python",
      "name": "python3"
    },
    "language_info": {
      "codemirror_mode": {
        "name": "ipython",
        "version": 3
      },
      "file_extension": ".py",
      "mimetype": "text/x-python",
      "name": "python",
      "nbconvert_exporter": "python",
      "pygments_lexer": "ipython3",
      "version": "3.7.3"
    }
  },
  "nbformat": 4,
  "nbformat_minor": 0
}
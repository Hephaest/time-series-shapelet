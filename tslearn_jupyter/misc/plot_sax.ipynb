{
  "cells": [
    {
      "cell_type": "code",
      "execution_count": null,
      "metadata": {
        "collapsed": false
      },
      "outputs": [],
      "source": [
        "%matplotlib inline"
      ]
    },
    {
      "cell_type": "markdown",
      "metadata": {},
      "source": [
        "\nPAA and SAX features\n====================\n\nThis example presents a comparison between PAA [1], SAX [2] and 1d-SAX [3]\nfeatures.\n\nPAA (Piecewise Aggregate Approximation) corresponds to a downsampling of the\noriginal time series and, in each segment (segments have fixed size), the mean\nvalue is retained.\n\nSAX (Symbolic Aggregate approXimation) builds upon PAA by quantizing the mean\nvalue. Quantization boundaries are computed for all symbols to be equiprobable,\nunder a standard normal distribution assumption.\n\nFinally, 1d-SAX is an extension of SAX in which each segment is represented\nby an affine function (2 parameters per segment are hence quantized: slope and\nmean value).\n\n[1] E. Keogh & M. Pazzani. Scaling up dynamic time warping for datamining\napplications. SIGKDD 2000, pp. 285--289.\n\n[2] J. Lin, E. Keogh, L. Wei, et al. Experiencing SAX: a novel symbolic\nrepresentation of time series. Data Mining and Knowledge Discovery,\n2007. vol. 15(107)\n\n[3] S. Malinowski, T. Guyet, R. Quiniou, R. Tavenard. 1d-SAX: a Novel\nSymbolic Representation for Time Series. IDA 2013.\n"
      ]
    },
    {
      "cell_type": "code",
      "execution_count": null,
      "metadata": {
        "collapsed": false
      },
      "outputs": [],
      "source": [
        "# Author: Romain Tavenard\n# License: BSD 3 clause\n\nimport numpy\nimport matplotlib.pyplot as plt\n\nfrom tslearn.generators import random_walks\nfrom tslearn.preprocessing import TimeSeriesScalerMeanVariance\nfrom tslearn.piecewise import PiecewiseAggregateApproximation\nfrom tslearn.piecewise import SymbolicAggregateApproximation, \\\n    OneD_SymbolicAggregateApproximation\n\nnumpy.random.seed(0)\n# Generate a random walk time series\nn_ts, sz, d = 1, 100, 1\ndataset = random_walks(n_ts=n_ts, sz=sz, d=d)\nscaler = TimeSeriesScalerMeanVariance(mu=0., std=1.)  # Rescale time series\ndataset = scaler.fit_transform(dataset)\n\n# PAA transform (and inverse transform) of the data\nn_paa_segments = 10\npaa = PiecewiseAggregateApproximation(n_segments=n_paa_segments)\npaa_dataset_inv = paa.inverse_transform(paa.fit_transform(dataset))\n\n# SAX transform\nn_sax_symbols = 8\nsax = SymbolicAggregateApproximation(n_segments=n_paa_segments,\n                                     alphabet_size_avg=n_sax_symbols)\nsax_dataset_inv = sax.inverse_transform(sax.fit_transform(dataset))\n\n# 1d-SAX transform\nn_sax_symbols_avg = 8\nn_sax_symbols_slope = 8\none_d_sax = OneD_SymbolicAggregateApproximation(\n    n_segments=n_paa_segments,\n    alphabet_size_avg=n_sax_symbols_avg,\n    alphabet_size_slope=n_sax_symbols_slope)\ntransformed_data = one_d_sax.fit_transform(dataset)\none_d_sax_dataset_inv = one_d_sax.inverse_transform(transformed_data)\n\nplt.figure()\nplt.subplot(2, 2, 1)  # First, raw time series\nplt.plot(dataset[0].ravel(), \"b-\")\nplt.title(\"Raw time series\")\n\nplt.subplot(2, 2, 2)  # Second, PAA\nplt.plot(dataset[0].ravel(), \"b-\", alpha=0.4)\nplt.plot(paa_dataset_inv[0].ravel(), \"b-\")\nplt.title(\"PAA\")\n\nplt.subplot(2, 2, 3)  # Then SAX\nplt.plot(dataset[0].ravel(), \"b-\", alpha=0.4)\nplt.plot(sax_dataset_inv[0].ravel(), \"b-\")\nplt.title(\"SAX, %d symbols\" % n_sax_symbols)\n\nplt.subplot(2, 2, 4)  # Finally, 1d-SAX\nplt.plot(dataset[0].ravel(), \"b-\", alpha=0.4)\nplt.plot(one_d_sax_dataset_inv[0].ravel(), \"b-\")\nplt.title(\"1d-SAX, %d symbols\"\n          \"(%dx%d)\" % (n_sax_symbols_avg * n_sax_symbols_slope,\n                       n_sax_symbols_avg,\n                       n_sax_symbols_slope))\n\nplt.tight_layout()\nplt.show()"
      ]
    }
  ],
  "metadata": {
    "kernelspec": {
      "display_name": "Python 3",
      "language": "python",
      "name": "python3"
    },
    "language_info": {
      "codemirror_mode": {
        "name": "ipython",
        "version": 3
      },
      "file_extension": ".py",
      "mimetype": "text/x-python",
      "name": "python",
      "nbconvert_exporter": "python",
      "pygments_lexer": "ipython3",
      "version": "3.7.3"
    }
  },
  "nbformat": 4,
  "nbformat_minor": 0
}
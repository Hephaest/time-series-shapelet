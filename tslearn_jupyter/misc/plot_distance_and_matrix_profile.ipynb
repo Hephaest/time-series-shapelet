{
  "cells": [
    {
      "cell_type": "code",
      "execution_count": null,
      "metadata": {
        "collapsed": false
      },
      "outputs": [],
      "source": [
        "%matplotlib inline"
      ]
    },
    {
      "cell_type": "markdown",
      "metadata": {},
      "source": [
        "\nDistance and Matrix Profiles\n============================\nThis example illustrates how the matrix profile is calculated. For each\nsegment of a timeseries with a specified length, the distances between\neach subsequence and that segment are calculated. The smallest distance is\nreturned, except for trivial match on the location where the segment is\nextracted from which is equal to zero.\n"
      ]
    },
    {
      "cell_type": "code",
      "execution_count": null,
      "metadata": {
        "collapsed": false
      },
      "outputs": [],
      "source": [
        "# Author: Gilles Vandewiele\n# License: BSD 3 clause\n\nimport numpy\nimport matplotlib.patches as patches\nfrom mpl_toolkits.axes_grid1.inset_locator import inset_axes\nimport matplotlib.pyplot as plt\n\nfrom tslearn.datasets import CachedDatasets\nfrom tslearn.preprocessing import TimeSeriesScalerMeanVariance\nfrom tslearn.matrix_profile import MatrixProfile\n\nimport warnings\nwarnings.filterwarnings('ignore')\n\n# Set a seed to ensure determinism\nnumpy.random.seed(42)\n\n# Load the Trace dataset\nX_train, y_train, _, _ = CachedDatasets().load_dataset(\"Trace\")\n\n# Normalize the time series\nscaler = TimeSeriesScalerMeanVariance()\nX_train = scaler.fit_transform(X_train)\n\n# Take the first time series\nts = X_train[0, :, :]\n\n# We will take the spike as a segment\nsubseq_len = 20\nstart = 45\nsegment = ts[start:start + subseq_len]\n\n# Create our matrix profile\nmatrix_profiler = MatrixProfile(subsequence_length=subseq_len, scale=True)\nmp = matrix_profiler.fit_transform([ts]).flatten()\n\n# Create a grid for our plots\nfig, (ax1, ax2, ax3) = plt.subplots(3, 1, sharex=True)\n\n# Plot our timeseries\nax1.plot(ts, c='b', label='time series')\nax1.add_patch(patches.Rectangle((start, numpy.min(ts) - 0.1), subseq_len,\n                                numpy.max(ts) - numpy.min(ts) + 0.2,\n                                facecolor='b', alpha=0.25,\n                                label='segment'))\nax1.axvline(start, c='b', linestyle='--', lw=2, alpha=0.5,\n            label='segment start')\nax1.legend(loc='lower right', ncol=4, fontsize=8,\n           handletextpad=0.1, columnspacing=0.5)\nax1.set_title('The time series')\n\n# Inset plot with our segment\nfig_ax_in = ax1.inset_axes([0.5, 0.55, 0.2, 0.4])\nfig_ax_in.plot(scaler.fit_transform(segment.reshape(1, -1, 1))[0], c='b')\nax1.indicate_inset(inset_ax=fig_ax_in, transform=ax1.transData,\n                   bounds=[start, numpy.min(ts) - 0.1, subseq_len,\n                           numpy.max(ts) - numpy.min(ts) + 0.2],\n                   linestyle='--', alpha=0.75)\nfig_ax_in.tick_params(labelleft=False, labelbottom=False)\nfig_ax_in.xaxis.set_visible(False)\nfig_ax_in.yaxis.set_visible(False)\n\n# Calculate a distance profile, which represents the distance from each\n# subsequence of the time series and the segment\ndistances = []\nfor i in range(len(ts) - subseq_len):\n    scaled_ts = scaler.fit_transform(ts[i:i+subseq_len].reshape(1, -1, 1))\n    scaled_segment = scaler.fit_transform(segment.reshape(1, -1, 1))\n    distances.append(numpy.linalg.norm(scaled_ts - scaled_segment))\n\n# Mask out the distances in the trivial match zone, get the nearest\n# neighbor and put the old distances back in place so we can plot them.\ndistances = numpy.array(distances)\nmask = list(range(start - subseq_len // 4, start + subseq_len // 4))\nold_distances = distances[mask]\ndistances[mask] = numpy.inf\nnearest_neighbor = numpy.argmin(distances)\ndist_nn = distances[nearest_neighbor]\ndistances[mask] = old_distances\n\n# Plot our distance profile\nax2.plot(distances, c='b')\nax2.set_title('Segment distance profile')\ndist_diff = numpy.max(distances) - numpy.min(distances)\nax2.add_patch(patches.Rectangle((start - subseq_len // 4,\n                                 numpy.min(distances) - 0.1),\n                                subseq_len // 2,\n                                dist_diff + 0.2,\n                                facecolor='r', alpha=0.5,\n                                label='exclusion zone'))\nax2.scatter(nearest_neighbor, dist_nn, c='r', marker='x', s=50,\n            label='neighbor dist = {}'.format(numpy.around(dist_nn, 3)))\nax2.axvline(start, c='b', linestyle='--', lw=2, alpha=0.5,\n            label='segment start')\nax2.legend(loc='lower right', fontsize=8, ncol=3,\n           handletextpad=0.1, columnspacing=0.5)\n\n# Plot our matrix profile\nax3.plot(mp, c='b')\nax3.set_title('Matrix profile')\nax3.scatter(start, mp[start],\n            c='r', marker='x', s=75,\n            label='MP segment = {}'.format(numpy.around(mp[start], 3)))\nax3.axvline(start, c='b', linestyle='--', lw=2, alpha=0.5,\n            label='segment start')\nax3.legend(loc='lower right', fontsize=8,\n           handletextpad=0.1, columnspacing=0.25)\n\nplt.tight_layout()\nplt.show()"
      ]
    }
  ],
  "metadata": {
    "kernelspec": {
      "display_name": "Python 3",
      "language": "python",
      "name": "python3"
    },
    "language_info": {
      "codemirror_mode": {
        "name": "ipython",
        "version": 3
      },
      "file_extension": ".py",
      "mimetype": "text/x-python",
      "name": "python",
      "nbconvert_exporter": "python",
      "pygments_lexer": "ipython3",
      "version": "3.7.3"
    }
  },
  "nbformat": 4,
  "nbformat_minor": 0
}
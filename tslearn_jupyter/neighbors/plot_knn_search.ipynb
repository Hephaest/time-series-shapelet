{
  "cells": [
    {
      "cell_type": "code",
      "execution_count": null,
      "metadata": {
        "collapsed": false
      },
      "outputs": [],
      "source": [
        "%matplotlib inline"
      ]
    },
    {
      "cell_type": "markdown",
      "metadata": {},
      "source": [
        "\nk-NN search\n===========\n\nThis example performs a $k$-Nearest-Neighbor search in a database of time\nseries using DTW as a base metric.\n\nTo do so, we use the :class:`tslearn.neighbors.KNeighborsTimeSeries` class\nwhich provides utilities for the $k$-Nearest-Neighbor algorithm\nfor time series.\n\n[1] `Wikipedia entry for the k-nearest neighbors algorithm\n<https://en.wikipedia.org/wiki/K-nearest_neighbors_algorithm>`_\n\n[2] H. Sakoe and S. Chiba, \"Dynamic programming algorithm optimization\nfor spoken word recognition\". IEEE Transactions on Acoustics, Speech, and\nSignal Processing, 26(1), 43-49 (1978).\n"
      ]
    },
    {
      "cell_type": "code",
      "execution_count": null,
      "metadata": {
        "collapsed": false
      },
      "outputs": [],
      "source": [
        "# Author: Romain Tavenard\n# License: BSD 3 clause\n\nimport numpy\nimport matplotlib.pyplot as plt\n\nfrom tslearn.neighbors import KNeighborsTimeSeries\nfrom tslearn.datasets import CachedDatasets\n\nseed = 0\nnumpy.random.seed(seed)\nX_train, y_train, X_test, y_test = CachedDatasets().load_dataset(\"Trace\")\n\nn_queries = 2\nn_neighbors = 4\n\nknn = KNeighborsTimeSeries(n_neighbors=n_neighbors)\nknn.fit(X_train)\nind = knn.kneighbors(X_test[:n_queries], return_distance=False)\n\nplt.figure()\nfor idx_ts in range(n_queries):\n    plt.subplot(n_neighbors + 1, n_queries, idx_ts + 1)\n    plt.plot(X_test[idx_ts].ravel(), \"k-\")\n    plt.xticks([])\n    for rank_nn in range(n_neighbors):\n        plt.subplot(n_neighbors + 1, n_queries,\n                    idx_ts + (n_queries * (rank_nn + 1)) + 1)\n        plt.plot(X_train[ind[idx_ts, rank_nn]].ravel(), \"r-\")\n        plt.xticks([])\n\n\nplt.suptitle(\"Queries (in black) and their nearest neighbors (red)\")\nplt.show()"
      ]
    }
  ],
  "metadata": {
    "kernelspec": {
      "display_name": "Python 3",
      "language": "python",
      "name": "python3"
    },
    "language_info": {
      "codemirror_mode": {
        "name": "ipython",
        "version": 3
      },
      "file_extension": ".py",
      "mimetype": "text/x-python",
      "name": "python",
      "nbconvert_exporter": "python",
      "pygments_lexer": "ipython3",
      "version": "3.7.3"
    }
  },
  "nbformat": 4,
  "nbformat_minor": 0
}
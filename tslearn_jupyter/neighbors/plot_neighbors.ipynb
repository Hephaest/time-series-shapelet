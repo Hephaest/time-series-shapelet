{
  "cells": [
    {
      "cell_type": "code",
      "execution_count": null,
      "metadata": {
        "collapsed": false
      },
      "outputs": [],
      "source": [
        "%matplotlib inline"
      ]
    },
    {
      "cell_type": "markdown",
      "metadata": {},
      "source": [
        "\nNearest neighbors\n=================\n\nThis example illustrates the use of nearest neighbor methods for database\nsearch and classification tasks.\n\nThe three-nearest neighbors of the time series from a test set are computed.\nThen, the predictive performance of a three-nearest neighbors classifier [1] is\ncomputed with three different metrics: Dynamic Time Warping [2], Euclidean\ndistance and SAX-MINDIST [3].\n\n[1] `Wikipedia entry for the k-nearest neighbors algorithm\n<https://en.wikipedia.org/wiki/K-nearest_neighbors_algorithm>`_\n\n[2] H. Sakoe and S. Chiba, \"Dynamic programming algorithm optimization\nfor spoken word recognition\". IEEE Transactions on Acoustics, Speech, and\nSignal Processing, 26(1), 43-49 (1978).\n\n[3] J. Lin, E. Keogh, L. Wei and S. Lonardi, \"Experiencing SAX: a novel\nsymbolic representation of time series\". Data Mining and Knowledge Discovery,\n15(2), 107-144 (2007).\n"
      ]
    },
    {
      "cell_type": "code",
      "execution_count": null,
      "metadata": {
        "collapsed": false
      },
      "outputs": [],
      "source": [
        "# Author: Romain Tavenard\n# License: BSD 3 clause\n\nimport numpy\nfrom sklearn.metrics import accuracy_score\n\nfrom tslearn.generators import random_walk_blobs\nfrom tslearn.preprocessing import TimeSeriesScalerMinMax, \\\n    TimeSeriesScalerMeanVariance\nfrom tslearn.neighbors import KNeighborsTimeSeriesClassifier, \\\n    KNeighborsTimeSeries\n\nnumpy.random.seed(0)\nn_ts_per_blob, sz, d, n_blobs = 20, 100, 1, 2\n\n# Prepare data\nX, y = random_walk_blobs(n_ts_per_blob=n_ts_per_blob,\n                         sz=sz,\n                         d=d,\n                         n_blobs=n_blobs)\nscaler = TimeSeriesScalerMinMax(value_range=(0., 1.))  # Rescale time series\nX_scaled = scaler.fit_transform(X)\n\nindices_shuffle = numpy.random.permutation(n_ts_per_blob * n_blobs)\nX_shuffle = X_scaled[indices_shuffle]\ny_shuffle = y[indices_shuffle]\n\nX_train = X_shuffle[:n_ts_per_blob * n_blobs // 2]\nX_test = X_shuffle[n_ts_per_blob * n_blobs // 2:]\ny_train = y_shuffle[:n_ts_per_blob * n_blobs // 2]\ny_test = y_shuffle[n_ts_per_blob * n_blobs // 2:]\n\n# Nearest neighbor search\nknn = KNeighborsTimeSeries(n_neighbors=3, metric=\"dtw\")\nknn.fit(X_train, y_train)\ndists, ind = knn.kneighbors(X_test)\nprint(\"1. Nearest neighbour search\")\nprint(\"Computed nearest neighbor indices (wrt DTW)\\n\", ind)\nprint(\"First nearest neighbor class:\", y_test[ind[:, 0]])\n\n# Nearest neighbor classification\nknn_clf = KNeighborsTimeSeriesClassifier(n_neighbors=3, metric=\"dtw\")\nknn_clf.fit(X_train, y_train)\npredicted_labels = knn_clf.predict(X_test)\nprint(\"\\n2. Nearest neighbor classification using DTW\")\nprint(\"Correct classification rate:\", accuracy_score(y_test, predicted_labels))\n\n# Nearest neighbor classification with a different metric (Euclidean distance)\nknn_clf = KNeighborsTimeSeriesClassifier(n_neighbors=3, metric=\"euclidean\")\nknn_clf.fit(X_train, y_train)\npredicted_labels = knn_clf.predict(X_test)\nprint(\"\\n3. Nearest neighbor classification using L2\")\nprint(\"Correct classification rate:\", accuracy_score(y_test, predicted_labels))\n\n# Nearest neighbor classification based on SAX representation\nmetric_params = {'n_segments': 10, 'alphabet_size_avg': 5}\nknn_clf = KNeighborsTimeSeriesClassifier(n_neighbors=3, metric=\"sax\",\n                                         metric_params=metric_params)\nknn_clf.fit(X_train, y_train)\npredicted_labels = knn_clf.predict(X_test)\nprint(\"\\n4. Nearest neighbor classification using SAX+MINDIST\")\nprint(\"Correct classification rate:\", accuracy_score(y_test, predicted_labels))"
      ]
    }
  ],
  "metadata": {
    "kernelspec": {
      "display_name": "Python 3",
      "language": "python",
      "name": "python3"
    },
    "language_info": {
      "codemirror_mode": {
        "name": "ipython",
        "version": 3
      },
      "file_extension": ".py",
      "mimetype": "text/x-python",
      "name": "python",
      "nbconvert_exporter": "python",
      "pygments_lexer": "ipython3",
      "version": "3.7.3"
    }
  },
  "nbformat": 4,
  "nbformat_minor": 0
}
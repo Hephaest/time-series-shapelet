{
  "cells": [
    {
      "cell_type": "code",
      "execution_count": null,
      "metadata": {
        "collapsed": false
      },
      "outputs": [],
      "source": [
        "%matplotlib inline"
      ]
    },
    {
      "cell_type": "markdown",
      "metadata": {},
      "source": [
        "\n1-NN with SAX + MINDIST\n=======================\n\nThis example presents a comparison between k-Nearest Neighbor runs with k=1.\nIt compares the use of:\n* MINDIST (see [1]) on SAX representations of the data.\n* Euclidean distance on the raw values of the time series.\n\nThe comparison is based on test accuracy using several benchmark datasets.\n\n[1] Lin, Jessica, et al. \"Experiencing SAX: a novel symbolic\n    representation of time series.\" Data Mining and knowledge\n    discovery 15.2 (2007): 107-144.\n"
      ]
    },
    {
      "cell_type": "code",
      "execution_count": null,
      "metadata": {
        "collapsed": false
      },
      "outputs": [],
      "source": [
        "# Author: Gilles Vandewiele\n# License: BSD 3 clause\n\nimport warnings\nimport time\n\nimport numpy\nimport matplotlib.pyplot as plt\nfrom scipy.stats import norm\n\nfrom tslearn.datasets import UCR_UEA_datasets\nfrom tslearn.preprocessing import TimeSeriesScalerMeanVariance\nfrom tslearn.neighbors import KNeighborsTimeSeriesClassifier\n\nfrom sklearn.base import clone\nfrom sklearn.metrics import pairwise_distances, accuracy_score\nfrom sklearn.neighbors import KNeighborsClassifier\n\n\nwarnings.filterwarnings('ignore')\n\n\ndef print_table(accuracies, times):\n    \"\"\"Utility function to pretty print the obtained accuracies\"\"\"\n    header_str = '|'\n    header_str += '{:^20}|'.format('dataset')\n    columns = ['sax error', 'sax time', 'eucl error', 'eucl time']\n    for col in columns:\n        header_str += '{:^12}|'.format(col)\n    print(header_str)\n    print('-'*(len(columns) * 13 + 22))\n\n    for dataset in accuracies:\n        acc_sax, acc_euclidean = accuracies[dataset]\n        time_sax, time_euclidean = times[dataset]\n        sax_error = numpy.around(1 - acc_sax, 5)\n        eucl_error = numpy.around(1 - acc_euclidean, 5)\n        time_sax = numpy.around(time_sax, 5)\n        time_euclidean = numpy.around(time_euclidean, 5)\n        s = '|'\n        s += '{:>20}|'.format(dataset)\n        s += '{:>12}|'.format(sax_error)\n        s += '{:>12}|'.format(time_sax)\n        s += '{:>12}|'.format(eucl_error)\n        s += '{:>12}|'.format(time_euclidean)\n        print(s.strip())\n\n    print('-'*(len(columns) * 13 + 22))\n\n\n# Set seed\nnumpy.random.seed(0)\n\n# Defining dataset and the number of segments\ndata_loader = UCR_UEA_datasets()\ndatasets = [\n    ('SyntheticControl', 16),\n    ('GunPoint', 64),\n    ('FaceFour', 128),\n    ('Lightning2', 256),\n    ('Lightning7', 128),\n    ('ECG200', 32),\n    ('Plane', 64),\n    ('Car', 256),\n    ('Beef', 128),\n    ('Coffee', 128),\n    ('OliveOil', 256)\n]\n\n# We will compare the accuracies & execution times of 1-NN using:\n# (i) MINDIST on SAX representations, and\n# (ii) euclidean distance on raw values\nknn_sax = KNeighborsTimeSeriesClassifier(n_neighbors=1, metric='sax')\nknn_eucl = KNeighborsTimeSeriesClassifier(n_neighbors=1, metric='euclidean')\n\naccuracies = {}\ntimes = {}\nfor dataset, w in datasets:\n    X_train, y_train, X_test, y_test = data_loader.load_dataset(dataset)\n\n    ts_scaler = TimeSeriesScalerMeanVariance()\n    X_train = ts_scaler.fit_transform(X_train)\n    X_test = ts_scaler.fit_transform(X_test)\n\n    # Fit 1-NN using SAX representation & MINDIST\n    metric_params = {'n_segments': w, 'alphabet_size_avg': 10}\n    knn_sax = clone(knn_sax).set_params(metric_params=metric_params)\n    start = time.time()\n    knn_sax.fit(X_train, y_train)\n    acc_sax = accuracy_score(y_test, knn_sax.predict(X_test))\n    time_sax = time.time() - start\n\n    # Fit 1-NN using euclidean distance on raw values\n    start = time.time()\n    knn_eucl.fit(X_train, y_train)\n    acc_euclidean = accuracy_score(y_test, knn_eucl.predict(X_test))\n    time_euclidean = time.time() - start\n\n    accuracies[dataset] = (acc_sax, acc_euclidean)\n    times[dataset] = (time_sax, time_euclidean)\n\nprint_table(accuracies, times)"
      ]
    }
  ],
  "metadata": {
    "kernelspec": {
      "display_name": "Python 3",
      "language": "python",
      "name": "python3"
    },
    "language_info": {
      "codemirror_mode": {
        "name": "ipython",
        "version": 3
      },
      "file_extension": ".py",
      "mimetype": "text/x-python",
      "name": "python",
      "nbconvert_exporter": "python",
      "pygments_lexer": "ipython3",
      "version": "3.7.3"
    }
  },
  "nbformat": 4,
  "nbformat_minor": 0
}
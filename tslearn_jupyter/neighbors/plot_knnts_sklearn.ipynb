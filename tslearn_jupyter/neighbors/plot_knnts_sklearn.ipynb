{
  "cells": [
    {
      "cell_type": "code",
      "execution_count": null,
      "metadata": {
        "collapsed": false
      },
      "outputs": [],
      "source": [
        "%matplotlib inline"
      ]
    },
    {
      "cell_type": "markdown",
      "metadata": {},
      "source": [
        "\nHyper-parameter tuning of a Pipeline with KNeighborsTimeSeriesClassifier\n========================================================================\n\nIn this example, we demonstrate how it is possible to use the different\nalgorithms of tslearn in combination with sklearn utilities, such as\nthe `sklearn.pipeline.Pipeline` and `sklearn.model_selection.GridSearchCV`.\nIn this specific example, we will tune two of the hyper-parameters\nof a `KNeighborsTimeSeriesClassifier`.\n"
      ]
    },
    {
      "cell_type": "code",
      "execution_count": null,
      "metadata": {
        "collapsed": false
      },
      "outputs": [],
      "source": [
        "# Author: Gilles Vandewiele\n# License: BSD 3 clause\n\nfrom tslearn.neighbors import KNeighborsTimeSeriesClassifier\nfrom tslearn.preprocessing import TimeSeriesScalerMinMax\nfrom tslearn.datasets import CachedDatasets\n\nfrom sklearn.model_selection import GridSearchCV, StratifiedKFold\nfrom sklearn.pipeline import Pipeline\n\nimport numpy as np\n\nimport matplotlib.pyplot as plt\n\n# Our pipeline consists of two phases. First, data will be normalized using\n# min-max normalization. Afterwards, it is fed to a KNN classifier. For the\n# KNN classifier, we tune the n_neighbors and weights hyper-parameters.\nn_splits = 3\npipeline = GridSearchCV(\n    Pipeline([\n            ('normalize', TimeSeriesScalerMinMax()),\n            ('knn', KNeighborsTimeSeriesClassifier())\n    ]),\n    {'knn__n_neighbors': [5, 25], 'knn__weights': ['uniform', 'distance']},\n    cv=StratifiedKFold(n_splits=n_splits, shuffle=True, random_state=42)\n)\n\nX_train, y_train, _, _ = CachedDatasets().load_dataset(\"Trace\")\n\n# Keep only timeseries of class 1, 2, 3\nX_train = X_train[y_train > 0]\ny_train = y_train[y_train > 0]\n\n# Keep only the first 50 timeseries of both train and\n# retain only a small amount of each of the timeseries\nX_train, y_train = X_train[:50, 50:150], y_train[:50]\n\n# Plot our timeseries\ncolors = ['g', 'b', 'r']\nplt.figure()\nfor ts, label in zip(X_train, y_train):\n    plt.plot(ts, c=colors[label - 2], alpha=0.5)\nplt.title('The timeseries in the dataset')\nplt.tight_layout()\nplt.show()\n\n# Fit our pipeline\nprint(end='Performing hyper-parameter tuning of KNN classifier... ')\npipeline.fit(X_train, y_train)\nresults = pipeline.cv_results_\n\n# Print each possible configuration parameter and the out-of-fold accuracies\nprint('Done!')\nprint()\nprint('Got the following accuracies on the test set for each fold:')\n\nheader_str = '|'\ncolumns = ['n_neighbors', 'weights']\ncolumns += ['score_fold_{}'.format(i + 1) for i in range(n_splits)]\nfor col in columns:\n    header_str += '{:^12}|'.format(col)\nprint(header_str)\nprint('-'*(len(columns) * 13))\n\nfor i in range(len(results['params'])):\n    s = '|'\n    s += '{:>12}|'.format(results['params'][i]['knn__n_neighbors'])\n    s += '{:>12}|'.format(results['params'][i]['knn__weights'])\n    for k in range(n_splits):\n        score = results['split{}_test_score'.format(k)][i]\n        score = np.around(score, 5)\n        s += '{:>12}|'.format(score)\n    print(s.strip())\n\nbest_comb = np.argmax(results['mean_test_score'])\nbest_params = results['params'][best_comb]\n\nprint()\nprint('Best parameter combination:')\nprint('weights={}, n_neighbors={}'.format(best_params['knn__weights'],\n                                          best_params['knn__n_neighbors']))"
      ]
    }
  ],
  "metadata": {
    "kernelspec": {
      "display_name": "Python 3",
      "language": "python",
      "name": "python3"
    },
    "language_info": {
      "codemirror_mode": {
        "name": "ipython",
        "version": 3
      },
      "file_extension": ".py",
      "mimetype": "text/x-python",
      "name": "python",
      "nbconvert_exporter": "python",
      "pygments_lexer": "ipython3",
      "version": "3.7.3"
    }
  },
  "nbformat": 4,
  "nbformat_minor": 0
}
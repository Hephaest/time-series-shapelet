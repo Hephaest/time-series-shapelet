{
  "cells": [
    {
      "cell_type": "code",
      "execution_count": null,
      "metadata": {
        "collapsed": false
      },
      "outputs": [],
      "source": [
        "%matplotlib inline"
      ]
    },
    {
      "cell_type": "markdown",
      "metadata": {},
      "source": [
        "\nLearning Shapelets: decision boundaries in 2D distance space\n============================================================\n\nThis example illustrates the use of the \"Learning Shapelets\" method in order\nto learn a collection of shapelets that linearly separates the timeseries.\nIn this example, we will extract two shapelets which are then used to\ntransform our input time series in a two-dimensional space, which is called\nthe shapelet-transform space in the related literature. Moreover, we plot the\ndecision boundaries of our classifier for each of the different classes.\n\nMore information on the method can be found at:\nhttp://fs.ismll.de/publicspace/LearningShapelets/.\n"
      ]
    },
    {
      "cell_type": "code",
      "execution_count": null,
      "metadata": {
        "collapsed": false
      },
      "outputs": [],
      "source": [
        "# Author: Gilles Vandewiele\n# License: BSD 3 clause\n\nimport numpy\nfrom matplotlib import cm\nimport matplotlib.pyplot as plt\n\nfrom tslearn.datasets import CachedDatasets\nfrom tslearn.preprocessing import TimeSeriesScalerMinMax\nfrom tslearn.shapelets import LearningShapelets\nfrom tensorflow.keras.optimizers import Adam\n\n# Set a seed to ensure determinism\nnumpy.random.seed(42)\n\n# Load the Trace dataset\nX_train, y_train, _, _ = CachedDatasets().load_dataset(\"Trace\")\n\n# Normalize the time series\nX_train = TimeSeriesScalerMinMax().fit_transform(X_train)\n\n# Get statistics of the dataset\nn_ts, ts_sz = X_train.shape[:2]\nn_classes = len(set(y_train))\n\n# We will extract 2 shapelets and align them with the time series\nshapelet_sizes = {20: 2}\n\n# Define the model and fit it using the training data\nshp_clf = LearningShapelets(n_shapelets_per_size=shapelet_sizes,\n                            weight_regularizer=0.0001,\n                            optimizer=Adam(lr=0.01),\n                            max_iter=300,\n                            verbose=0,\n                            scale=False,\n                            random_state=42)\nshp_clf.fit(X_train, y_train)\n\n# We will plot our distances in a 2D space\ndistances = shp_clf.transform(X_train).reshape((-1, 2))\nweights, biases = shp_clf.get_weights('classification')\n\n# Create a grid for our two shapelets on the left and distances on the right\nviridis = cm.get_cmap('viridis', 4)\nfig = plt.figure(constrained_layout=True)\ngs = fig.add_gridspec(3, 9)\nfig_ax1 = fig.add_subplot(gs[0, :2])\nfig_ax2 = fig.add_subplot(gs[0, 2:4])\nfig_ax3a = fig.add_subplot(gs[1, :2])\nfig_ax3b = fig.add_subplot(gs[1, 2:4])\nfig_ax3c = fig.add_subplot(gs[2, :2])\nfig_ax3d = fig.add_subplot(gs[2, 2:4])\nfig_ax4 = fig.add_subplot(gs[:, 4:])\n\n# Plot our two shapelets on the left side\nfig_ax1.plot(shp_clf.shapelets_[0])\nfig_ax1.set_title('Shapelet $\\mathbf{s}_1$')\n\nfig_ax2.plot(shp_clf.shapelets_[1])\nfig_ax2.set_title('Shapelet $\\mathbf{s}_2$')\n\n# Create the time series of each class\nfor i, subfig in enumerate([fig_ax3a, fig_ax3b, fig_ax3c, fig_ax3d]):\n    for k, ts in enumerate(X_train[y_train == i + 1]):\n        subfig.plot(ts.flatten(), c=viridis(i / 3), alpha=0.25)\n        subfig.set_title('Class {}'.format(i + 1))\nfig.text(x=.15, y=.02, s='Input time series', fontsize=12)\n\n# Create a scatter plot of the 2D distances for the time series of each class.\nfor i, y in enumerate(numpy.unique(y_train)):\n    fig_ax4.scatter(distances[y_train == y][:, 0],\n                    distances[y_train == y][:, 1],\n                    c=[viridis(i / 3)] * numpy.sum(y_train == y),\n                    edgecolors='k',\n                    label='Class {}'.format(y))\n\n# Create a meshgrid of the decision boundaries\nxmin = numpy.min(distances[:, 0]) - 0.1\nxmax = numpy.max(distances[:, 0]) + 0.1\nymin = numpy.min(distances[:, 1]) - 0.1\nymax = numpy.max(distances[:, 1]) + 0.1\nxx, yy = numpy.meshgrid(numpy.arange(xmin, xmax, (xmax - xmin)/200),\n                        numpy.arange(ymin, ymax, (ymax - ymin)/200))\nZ = []\nfor x, y in numpy.c_[xx.ravel(), yy.ravel()]:\n    Z.append(numpy.argmax([biases[i] + weights[0][i]*x + weights[1][i]*y\n                           for i in range(4)]))\nZ = numpy.array(Z).reshape(xx.shape)\ncs = fig_ax4.contourf(xx, yy, Z / 3, cmap=viridis, alpha=0.25)\n\nfig_ax4.legend()\nfig_ax4.set_xlabel('$d(\\mathbf{x}, \\mathbf{s}_1)$')\nfig_ax4.set_ylabel('$d(\\mathbf{x}, \\mathbf{s}_2)$')\nfig_ax4.set_xlim((xmin, xmax))\nfig_ax4.set_ylim((ymin, ymax))\nfig_ax4.set_title('Distance transformed time series')\nplt.show()"
      ]
    }
  ],
  "metadata": {
    "kernelspec": {
      "display_name": "Python 3",
      "language": "python",
      "name": "python3"
    },
    "language_info": {
      "codemirror_mode": {
        "name": "ipython",
        "version": 3
      },
      "file_extension": ".py",
      "mimetype": "text/x-python",
      "name": "python",
      "nbconvert_exporter": "python",
      "pygments_lexer": "ipython3",
      "version": "3.7.3"
    }
  },
  "nbformat": 4,
  "nbformat_minor": 0
}
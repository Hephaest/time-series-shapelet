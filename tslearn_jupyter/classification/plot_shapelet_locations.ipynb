{
  "cells": [
    {
      "cell_type": "code",
      "execution_count": null,
      "metadata": {
        "collapsed": false
      },
      "outputs": [],
      "source": [
        "%matplotlib inline"
      ]
    },
    {
      "cell_type": "markdown",
      "metadata": {},
      "source": [
        "\nAligning discovered shapelets with timeseries\n=============================================\n\nThis example illustrates the use of the \"Learning Shapelets\" method in order\nto learn a collection of shapelets that linearly separates the timeseries.\nIn this example, we will extract a single shapelet in order to distinguish\nbetween two classes of the \"Trace\" dataset. Afterwards, we show how our time\nseries can be transformed to distances by aligning the shapelets along each of\nthe time series. This alignment is performed by shifting the smaller shapelet\nacross the longer time series and taking the minimal pointwise distance.\n\nMore information on the method can be found at:\nhttp://fs.ismll.de/publicspace/LearningShapelets/.\n"
      ]
    },
    {
      "cell_type": "code",
      "execution_count": null,
      "metadata": {
        "collapsed": false
      },
      "outputs": [],
      "source": [
        "# Author: Romain Tavenard\n# License: BSD 3 clause\n\nimport numpy\nimport matplotlib.pyplot as plt\n\nfrom tslearn.datasets import CachedDatasets\nfrom tslearn.preprocessing import TimeSeriesScalerMinMax\nfrom tslearn.shapelets import LearningShapelets, \\\n    grabocka_params_to_shapelet_size_dict\nfrom tensorflow.keras.optimizers import Adam\n\n# Set a seed to ensure determinism\nnumpy.random.seed(42)\n\n# Load the Trace dataset\nX_train, y_train, _, _ = CachedDatasets().load_dataset(\"Trace\")\n\n# Filter out classes 2 and 4\nmask = numpy.isin(y_train, [1, 3])\nX_train = X_train[mask]\ny_train = y_train[mask]\n\n# Normalize the time series\nX_train = TimeSeriesScalerMinMax().fit_transform(X_train)\n\n# Get statistics of the dataset\nn_ts, ts_sz = X_train.shape[:2]\nn_classes = len(set(y_train))\n\n# We will extract 1 shapelet and align it with a time series\nshapelet_sizes = {20: 1}\n\n# Define the model and fit it using the training data\nshp_clf = LearningShapelets(n_shapelets_per_size=shapelet_sizes,\n                            weight_regularizer=0.001,\n                            optimizer=Adam(lr=0.01),\n                            max_iter=250,\n                            verbose=0,\n                            scale=False,\n                            random_state=42)\nshp_clf.fit(X_train, y_train)\n\n# Get the number of extracted shapelets, the (minimal) distances from\n# each of the timeseries to each of the shapelets, and the corresponding\n# locations (index) where the minimal distance was found\nn_shapelets = sum(shapelet_sizes.values())\ndistances = shp_clf.transform(X_train)\npredicted_locations = shp_clf.locate(X_train)\n\nf, ax = plt.subplots(2, 1, sharex=True)\n\n# Plot the shapelet and align it on the best matched time series. The optimizer\n# will often enlarge the shapelet to create a larger gap between the distances\n# of both classes. We therefore normalize the shapelet again before plotting.\ntest_ts_id = numpy.argmin(numpy.sum(distances, axis=1))\nshap = shp_clf.shapelets_[0]\nshap = TimeSeriesScalerMinMax().fit_transform(shap.reshape(1, -1, 1)).flatten()\npos = predicted_locations[test_ts_id, 0]\nax[0].plot(X_train[test_ts_id].ravel())\nax[0].plot(numpy.arange(pos, pos + len(shap)), shap, linewidth=2)\nax[0].axvline(pos, color='k', linestyle='--', alpha=0.25)\nax[0].set_title(\"The aligned extracted shapelet\")\n\n# We calculate the distances from the shapelet to the timeseries ourselves.\ndistances = []\ntime_series = X_train[test_ts_id].ravel()\nfor i in range(len(time_series) - len(shap)):\n    distances.append(numpy.linalg.norm(time_series[i:i+len(shap)] - shap))\nax[1].plot(distances)\nax[1].axvline(numpy.argmin(distances), color='k', linestyle='--', alpha=0.25)\nax[1].set_title('The distances between the time series and the shapelet')\n\nplt.tight_layout()\nplt.show()"
      ]
    }
  ],
  "metadata": {
    "kernelspec": {
      "display_name": "Python 3",
      "language": "python",
      "name": "python3"
    },
    "language_info": {
      "codemirror_mode": {
        "name": "ipython",
        "version": 3
      },
      "file_extension": ".py",
      "mimetype": "text/x-python",
      "name": "python",
      "nbconvert_exporter": "python",
      "pygments_lexer": "ipython3",
      "version": "3.7.3"
    }
  },
  "nbformat": 4,
  "nbformat_minor": 0
}
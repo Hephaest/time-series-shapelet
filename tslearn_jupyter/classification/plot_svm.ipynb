{
  "cells": [
    {
      "cell_type": "code",
      "execution_count": null,
      "metadata": {
        "collapsed": false
      },
      "outputs": [],
      "source": [
        "%matplotlib inline"
      ]
    },
    {
      "cell_type": "markdown",
      "metadata": {},
      "source": [
        "\nSVM and GAK\n===========\n\nThis example illustrates the use of the global alignment kernel (GAK) for\nsupport vector classification.\n\nThis metric is defined in the `tslearn.metrics <mod-metrics>` module and\nexplained in details in [1].\n\nIn this example, a `TimeSeriesSVC` model that uses GAK as kernel is fit and the\nsupport vectors for each class are reported.\n\n\n[1] M. Cuturi, \"Fast global alignment kernels,\" ICML 2011.\n"
      ]
    },
    {
      "cell_type": "code",
      "execution_count": null,
      "metadata": {
        "collapsed": false
      },
      "outputs": [],
      "source": [
        "# Author: Romain Tavenard\n# License: BSD 3 clause\n\nimport numpy\nimport matplotlib.pyplot as plt\n\nfrom tslearn.datasets import CachedDatasets\nfrom tslearn.preprocessing import TimeSeriesScalerMinMax\nfrom tslearn.svm import TimeSeriesSVC\n\nnumpy.random.seed(0)\nX_train, y_train, X_test, y_test = CachedDatasets().load_dataset(\"Trace\")\nX_train = TimeSeriesScalerMinMax().fit_transform(X_train)\nX_test = TimeSeriesScalerMinMax().fit_transform(X_test)\n\nclf = TimeSeriesSVC(kernel=\"gak\", gamma=.1)\nclf.fit(X_train, y_train)\nprint(\"Correct classification rate:\", clf.score(X_test, y_test))\n\nn_classes = len(set(y_train))\n\nplt.figure()\nsupport_vectors = clf.support_vectors_\nfor i, cl in enumerate(set(y_train)):\n    plt.subplot(n_classes, 1, i + 1)\n    plt.title(\"Support vectors for class %d\" % cl)\n    for ts in support_vectors[i]:\n        plt.plot(ts.ravel())\n\nplt.tight_layout()\nplt.show()"
      ]
    }
  ],
  "metadata": {
    "kernelspec": {
      "display_name": "Python 3",
      "language": "python",
      "name": "python3"
    },
    "language_info": {
      "codemirror_mode": {
        "name": "ipython",
        "version": 3
      },
      "file_extension": ".py",
      "mimetype": "text/x-python",
      "name": "python",
      "nbconvert_exporter": "python",
      "pygments_lexer": "ipython3",
      "version": "3.7.3"
    }
  },
  "nbformat": 4,
  "nbformat_minor": 0
}
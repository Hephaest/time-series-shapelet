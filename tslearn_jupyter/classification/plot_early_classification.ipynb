{
  "cells": [
    {
      "cell_type": "code",
      "execution_count": null,
      "metadata": {
        "collapsed": false
      },
      "outputs": [],
      "source": [
        "%matplotlib inline"
      ]
    },
    {
      "cell_type": "markdown",
      "metadata": {},
      "source": [
        "\nEarly Classification\n====================\n\nThis example presents the concept of early classification.\n\nEarly classifiers are implemented in the \n:mod:`tslearn.early_classification` module and in this example \nwe use the method from [1].\n\n\n[1] A. Dachraoui, A. Bondu & A. Cornuejols. Early classification of time\nseries as a non myopic sequential decision making problem. ECML/PKDD 2015\n"
      ]
    },
    {
      "cell_type": "code",
      "execution_count": null,
      "metadata": {
        "collapsed": false
      },
      "outputs": [],
      "source": [
        "# Author: Romain Tavenard\n# License: BSD 3 clause\n# sphinx_gallery_thumbnail_number = 2\n\nimport numpy\nimport matplotlib.pyplot as plt\n\nfrom tslearn.preprocessing import TimeSeriesScalerMeanVariance\nfrom tslearn.early_classification import NonMyopicEarlyClassifier\nfrom tslearn.datasets import UCR_UEA_datasets\n\ndef plot_partial(time_series, t, y_true=0, y_pred=0, color=\"k\"):\n    plt.plot(time_series[:t+1].ravel(), color=color, linewidth=1.5)\n    plt.plot(numpy.arange(t+1, time_series.shape[0]),\n             time_series[t+1:].ravel(),\n             linestyle=\"dashed\", color=color, linewidth=1.5)\n    plt.axvline(x=t, color=color, linewidth=1.5)\n    plt.text(x=t - 20, y=time_series.max() - .25, s=\"Prediction time\")\n    plt.title(\n        \"Sample of class {} predicted as class {}\".format(y_true, y_pred)\n    )\n    plt.xlim(0, time_series.shape[0] - 1)"
      ]
    },
    {
      "cell_type": "markdown",
      "metadata": {},
      "source": [
        "Data loading and visualization\n------------------------------\n\n"
      ]
    },
    {
      "cell_type": "code",
      "execution_count": null,
      "metadata": {
        "collapsed": false
      },
      "outputs": [],
      "source": [
        "numpy.random.seed(0)\nX_train, y_train, X_test, y_test = UCR_UEA_datasets().load_dataset(\"ECG200\")\n\n# Scale time series\nX_train = TimeSeriesScalerMeanVariance().fit_transform(X_train)\nX_test = TimeSeriesScalerMeanVariance().fit_transform(X_test)\n\nsize = X_train.shape[1]\nn_classes = len(set(y_train))\n\nplt.figure()\nfor i, cl in enumerate(set(y_train)):\n    plt.subplot(n_classes, 1, i + 1)\n    for ts in X_train[y_train == cl]:\n        plt.plot(ts.ravel(), color=\"orange\" if cl > 0 else \"blue\", alpha=.3)\n    plt.xlim(0, size - 1)\nplt.suptitle(\"Training time series\")\nplt.show()"
      ]
    },
    {
      "cell_type": "markdown",
      "metadata": {},
      "source": [
        "Model fitting\n-------------\n\nAs observed in the following figure, the optimal classification time as\nestimated by `NonMyopicEarlyClassifier` is data-dependent.\n\n"
      ]
    },
    {
      "cell_type": "code",
      "execution_count": null,
      "metadata": {
        "collapsed": false
      },
      "outputs": [],
      "source": [
        "early_clf = NonMyopicEarlyClassifier(n_clusters=3,\n                                     cost_time_parameter=1e-3,\n                                     lamb=1e2,\n                                     random_state=0)\nearly_clf.fit(X_train, y_train)\n\npreds, times = early_clf.predict_class_and_earliness(X_test)\n\nplt.figure()\nplt.subplot(2, 1, 1)\nts_idx = 0\nt = times[ts_idx]\nplot_partial(X_test[ts_idx], t, y_test[ts_idx], preds[ts_idx], color=\"orange\")\n\n\nplt.subplot(2, 1, 2)\nts_idx = 9\nt = times[ts_idx]\nplot_partial(X_test[ts_idx], t, y_test[ts_idx], preds[ts_idx], color=\"blue\")\nplt.tight_layout()\nplt.show()"
      ]
    },
    {
      "cell_type": "markdown",
      "metadata": {},
      "source": [
        "Earliness-Accuracy trade-off\n----------------------------\n\nThe trade-off between earliness and accuracy is controlled via\n``cost_time_parameter``.\n\n"
      ]
    },
    {
      "cell_type": "code",
      "execution_count": null,
      "metadata": {
        "collapsed": false
      },
      "outputs": [],
      "source": [
        "plt.figure()\nhatches = [\"///\", \"\\\\\\\\\\\\\", \"*\"]\nfor i, cost_t in enumerate([1e-4, 1e-3, 1e-2]):\n    early_clf.set_params(cost_time_parameter=cost_t)\n    early_clf.fit(X_train, y_train)\n    preds, times = early_clf.predict_class_and_earliness(X_test)\n    plt.hist(times,\n             alpha=.5, hatch=hatches[i],\n             density=True,\n             label=\"$\\\\alpha={}$\".format(cost_t),\n             bins=numpy.arange(0, size, 5))\nplt.legend(loc=\"upper right\")\nplt.xlim(0, size - 1)\nplt.xlabel(\"Prediction times\")\nplt.title(\"Impact of cost_time_parameter ($\\\\alpha$)\")\nplt.show()"
      ]
    }
  ],
  "metadata": {
    "kernelspec": {
      "display_name": "Python 3",
      "language": "python",
      "name": "python3"
    },
    "language_info": {
      "codemirror_mode": {
        "name": "ipython",
        "version": 3
      },
      "file_extension": ".py",
      "mimetype": "text/x-python",
      "name": "python",
      "nbconvert_exporter": "python",
      "pygments_lexer": "ipython3",
      "version": "3.7.3"
    }
  },
  "nbformat": 4,
  "nbformat_minor": 0
}
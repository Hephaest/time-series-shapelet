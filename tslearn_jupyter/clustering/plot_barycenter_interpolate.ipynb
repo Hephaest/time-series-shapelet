{
  "cells": [
    {
      "cell_type": "code",
      "execution_count": null,
      "metadata": {
        "collapsed": false
      },
      "outputs": [],
      "source": [
        "%matplotlib inline"
      ]
    },
    {
      "cell_type": "markdown",
      "metadata": {},
      "source": [
        "\nSoft-DTW weighted barycenters\n=============================\n\nThis example presents the weighted Soft-DTW time series barycenter method.\n\nSoft-DTW [1] is a differentiable loss function for Dynamic Time Warping,\nallowing for the use of gradient-based algorithms. The barycenter corresponds\nto the time series that minimizes the sum of the distances between that time\nseries and all the time series from a dataset. It is thus an optimization\nproblem and having a differentiable loss function makes find the solution much\neasier.\n\nIn this example, we consider four time series $X_0, X_1, X_2$ and\n$X_3$ from four different classes in the Trace dataset. We compute\nthe barycenters for different sets of weights and plot them. The closer to a\ntime series the barycenter is, the higher the weight for this time series\nis.\n\n[1] M. Cuturi and M. Blondel, \"Soft-DTW: a Differentiable Loss Function for\nTime-Series\". International Conference on Machine Learning, 2017.\n"
      ]
    },
    {
      "cell_type": "code",
      "execution_count": null,
      "metadata": {
        "collapsed": false
      },
      "outputs": [],
      "source": [
        "# Author: Romain Tavenard\n# License: BSD 3 clause\n\nimport numpy\nimport matplotlib.pyplot as plt\nimport matplotlib.colors\n\nfrom tslearn.preprocessing import TimeSeriesScalerMinMax\nfrom tslearn.barycenters import softdtw_barycenter\nfrom tslearn.datasets import CachedDatasets\n\n\ndef row_col(position, n_cols=5):\n    idx_row = (position - 1) // n_cols\n    idx_col = position - n_cols * idx_row - 1\n    return idx_row, idx_col\n\n\ndef get_color(weights):\n    baselines = numpy.zeros((4, 3))\n    weights = numpy.array(weights).reshape(1, 4)\n    for i, c in enumerate([\"r\", \"g\", \"b\", \"y\"]):\n        baselines[i] = matplotlib.colors.ColorConverter().to_rgb(c)\n    return numpy.dot(weights, baselines).ravel()\n\n\nnumpy.random.seed(0)\nX_train, y_train, X_test, y_test = CachedDatasets().load_dataset(\"Trace\")\nX_out = numpy.empty((4, X_train.shape[1], X_train.shape[2]))\n\nplt.figure()\nfor i in range(4):\n    X_out[i] = X_train[y_train == (i + 1)][0]\nX_out = TimeSeriesScalerMinMax().fit_transform(X_out)\n\nfor i, pos in enumerate([1, 5, 21, 25]):\n    plt.subplot(5, 5, pos)\n    w = [0.] * 4\n    w[i] = 1.\n    plt.plot(X_out[i].ravel(),\n             color=matplotlib.colors.rgb2hex(get_color(w)),\n             linewidth=2)\n    plt.text(X_out[i].shape[0], 0., \"$X_%d$\" % i,\n             horizontalalignment=\"right\",\n             verticalalignment=\"baseline\",\n             fontsize=24)\n    plt.xticks([])\n    plt.yticks([])\n\nfor pos in range(2, 25):\n    if pos in [1, 5, 21, 25]:\n        continue\n    plt.subplot(5, 5, pos)\n    idxr, idxc = row_col(pos, 5)\n    w = numpy.array([0.] * 4)\n    w[0] = (4 - idxr) * (4 - idxc) / 16\n    w[1] = (4 - idxr) * idxc / 16\n    w[2] = idxr * (4 - idxc) / 16\n    w[3] = idxr * idxc / 16\n    plt.plot(softdtw_barycenter(X=X_out, weights=w).ravel(),\n             color=matplotlib.colors.rgb2hex(get_color(w)),\n             linewidth=2)\n    plt.xticks([])\n    plt.yticks([])\n\n\nplt.tight_layout()\nplt.show()"
      ]
    }
  ],
  "metadata": {
    "kernelspec": {
      "display_name": "Python 3",
      "language": "python",
      "name": "python3"
    },
    "language_info": {
      "codemirror_mode": {
        "name": "ipython",
        "version": 3
      },
      "file_extension": ".py",
      "mimetype": "text/x-python",
      "name": "python",
      "nbconvert_exporter": "python",
      "pygments_lexer": "ipython3",
      "version": "3.7.3"
    }
  },
  "nbformat": 4,
  "nbformat_minor": 0
}
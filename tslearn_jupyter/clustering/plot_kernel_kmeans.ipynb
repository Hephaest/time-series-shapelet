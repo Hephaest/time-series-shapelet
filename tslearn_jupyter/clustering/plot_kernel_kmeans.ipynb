{
  "cells": [
    {
      "cell_type": "code",
      "execution_count": null,
      "metadata": {
        "collapsed": false
      },
      "outputs": [],
      "source": [
        "%matplotlib inline"
      ]
    },
    {
      "cell_type": "markdown",
      "metadata": {},
      "source": [
        "\nKernel k-means\n==============\n\nThis example uses Global Alignment kernel (GAK, [1]) at the core of a kernel\n$k$-means algorithm [2] to perform time series clustering.\n\nNote that, contrary to $k$-means, a centroid cannot be computed when\nusing kernel $k$-means. However, one can still report cluster\nassignments, which is what is provided here: each subfigure represents the set\nof time series from the training set that were assigned to the considered\ncluster.\n\n[1] M. Cuturi, \"Fast global alignment kernels,\" ICML 2011.\n\n[2] I. S. Dhillon, Y. Guan, B. Kulis. Kernel k-means, Spectral Clustering and Normalized Cuts. KDD 2004.\n"
      ]
    },
    {
      "cell_type": "code",
      "execution_count": null,
      "metadata": {
        "collapsed": false
      },
      "outputs": [],
      "source": [
        "# Author: Romain Tavenard\n# License: BSD 3 clause\n\nimport numpy\nimport matplotlib.pyplot as plt\n\nfrom tslearn.clustering import KernelKMeans\nfrom tslearn.datasets import CachedDatasets\nfrom tslearn.preprocessing import TimeSeriesScalerMeanVariance\n\nseed = 0\nnumpy.random.seed(seed)\nX_train, y_train, X_test, y_test = CachedDatasets().load_dataset(\"Trace\")\n# Keep first 3 classes\nX_train = X_train[y_train < 4]\nnumpy.random.shuffle(X_train)\n# Keep only 50 time series\nX_train = TimeSeriesScalerMeanVariance().fit_transform(X_train[:50])\nsz = X_train.shape[1]\n\ngak_km = KernelKMeans(n_clusters=3,\n                      kernel=\"gak\",\n                      kernel_params={\"sigma\": \"auto\"},\n                      n_init=20,\n                      verbose=True,\n                      random_state=seed)\ny_pred = gak_km.fit_predict(X_train)\n\nplt.figure()\nfor yi in range(3):\n    plt.subplot(3, 1, 1 + yi)\n    for xx in X_train[y_pred == yi]:\n        plt.plot(xx.ravel(), \"k-\", alpha=.2)\n    plt.xlim(0, sz)\n    plt.ylim(-4, 4)\n    plt.title(\"Cluster %d\" % (yi + 1))\n\nplt.tight_layout()\nplt.show()"
      ]
    }
  ],
  "metadata": {
    "kernelspec": {
      "display_name": "Python 3",
      "language": "python",
      "name": "python3"
    },
    "language_info": {
      "codemirror_mode": {
        "name": "ipython",
        "version": 3
      },
      "file_extension": ".py",
      "mimetype": "text/x-python",
      "name": "python",
      "nbconvert_exporter": "python",
      "pygments_lexer": "ipython3",
      "version": "3.7.3"
    }
  },
  "nbformat": 4,
  "nbformat_minor": 0
}